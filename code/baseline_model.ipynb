{
 "cells": [
  {
   "cell_type": "code",
   "execution_count": 1,
   "metadata": {},
   "outputs": [],
   "source": [
    "# Program of baseline DNN model for Original Indoor floor plan (no room baseline)."
   ]
  },
  {
   "cell_type": "code",
   "execution_count": 2,
   "metadata": {},
   "outputs": [],
   "source": [
    "# Input- Location of Receivers (x,y) and Output- Pathloss (dB)"
   ]
  },
  {
   "cell_type": "code",
   "execution_count": 3,
   "metadata": {},
   "outputs": [],
   "source": [
    "# Importing library\n",
    "\n",
    "# Below four lines at top for generalization\n",
    "\n",
    "from numpy.random import seed\n",
    "seed(0)\n",
    "import tensorflow\n",
    "from tensorflow import keras\n",
    "tensorflow.random.set_seed(0)\n",
    "\n",
    "import math\n",
    "import numpy as np\n",
    "import pandas as pd\n",
    "import seaborn as sns\n",
    "import matplotlib.pyplot as plt\n",
    "from sklearn import metrics\n",
    "from sklearn.model_selection import train_test_split\n",
    "from sklearn.model_selection import cross_val_score, KFold\n",
    "from sklearn.metrics import accuracy_score, r2_score\n",
    "from sklearn import model_selection\n",
    "\n",
    "from sklearn.preprocessing import MinMaxScaler \n",
    "from sklearn.decomposition import PCA\n",
    "#To show the output within the jupyter notebook itself!\n",
    "%matplotlib inline \n",
    "\n",
    "from tensorflow.keras import layers\n",
    "from tensorflow.keras import models\n",
    "from tensorflow.keras.layers import Activation, LeakyReLU, PReLU, ELU, ReLU\n",
    "from tensorflow.keras.layers import Dropout\n",
    "from tensorflow.keras.optimizers import SGD, Adam\n",
    "from tensorflow.keras.optimizers import RMSprop\n",
    "from tensorflow.keras.callbacks import LearningRateScheduler\n",
    "from tensorflow.keras.callbacks import History\n",
    "from tensorflow.keras import losses\n",
    "\n",
    "from tensorflow.keras.models import Sequential\n",
    "from tensorflow.keras.layers import Dense, Activation\n",
    "from tensorflow.keras.layers import BatchNormalization\n",
    "from tensorflow.keras.callbacks import EarlyStopping\n",
    "\n",
    "from tensorflow.keras.wrappers.scikit_learn import KerasRegressor\n",
    "\n",
    "import warnings\n",
    "warnings.filterwarnings('ignore')\n",
    "warnings.simplefilter(action='ignore', category=FutureWarning)\n",
    "warnings.filterwarnings('ignore', category=DeprecationWarning)"
   ]
  },
  {
   "cell_type": "code",
   "execution_count": 4,
   "metadata": {},
   "outputs": [
    {
     "data": {
      "text/html": [
       "<div>\n",
       "<style scoped>\n",
       "    .dataframe tbody tr th:only-of-type {\n",
       "        vertical-align: middle;\n",
       "    }\n",
       "\n",
       "    .dataframe tbody tr th {\n",
       "        vertical-align: top;\n",
       "    }\n",
       "\n",
       "    .dataframe thead th {\n",
       "        text-align: right;\n",
       "    }\n",
       "</style>\n",
       "<table border=\"1\" class=\"dataframe\">\n",
       "  <thead>\n",
       "    <tr style=\"text-align: right;\">\n",
       "      <th></th>\n",
       "      <th>Unnamed: 0</th>\n",
       "      <th>Rx#</th>\n",
       "      <th>X(m)</th>\n",
       "      <th>Y(m)</th>\n",
       "      <th>Z(m)</th>\n",
       "      <th>Distance (m)</th>\n",
       "      <th>Path Loss (dB)</th>\n",
       "    </tr>\n",
       "  </thead>\n",
       "  <tbody>\n",
       "    <tr>\n",
       "      <th>0</th>\n",
       "      <td>0</td>\n",
       "      <td>1.0</td>\n",
       "      <td>0.05</td>\n",
       "      <td>0.05</td>\n",
       "      <td>1.3</td>\n",
       "      <td>10.05510</td>\n",
       "      <td>53.7739</td>\n",
       "    </tr>\n",
       "    <tr>\n",
       "      <th>1</th>\n",
       "      <td>1</td>\n",
       "      <td>2.0</td>\n",
       "      <td>0.20</td>\n",
       "      <td>0.05</td>\n",
       "      <td>1.3</td>\n",
       "      <td>10.03460</td>\n",
       "      <td>45.9036</td>\n",
       "    </tr>\n",
       "    <tr>\n",
       "      <th>2</th>\n",
       "      <td>2</td>\n",
       "      <td>3.0</td>\n",
       "      <td>0.35</td>\n",
       "      <td>0.05</td>\n",
       "      <td>1.3</td>\n",
       "      <td>10.01620</td>\n",
       "      <td>46.3245</td>\n",
       "    </tr>\n",
       "    <tr>\n",
       "      <th>3</th>\n",
       "      <td>3</td>\n",
       "      <td>4.0</td>\n",
       "      <td>0.50</td>\n",
       "      <td>0.05</td>\n",
       "      <td>1.3</td>\n",
       "      <td>10.00010</td>\n",
       "      <td>46.9934</td>\n",
       "    </tr>\n",
       "    <tr>\n",
       "      <th>4</th>\n",
       "      <td>4</td>\n",
       "      <td>5.0</td>\n",
       "      <td>0.65</td>\n",
       "      <td>0.05</td>\n",
       "      <td>1.3</td>\n",
       "      <td>9.98624</td>\n",
       "      <td>47.9332</td>\n",
       "    </tr>\n",
       "  </tbody>\n",
       "</table>\n",
       "</div>"
      ],
      "text/plain": [
       "   Unnamed: 0  Rx#  X(m)  Y(m)  Z(m)  Distance (m)  Path Loss (dB)\n",
       "0           0  1.0  0.05  0.05   1.3      10.05510         53.7739\n",
       "1           1  2.0  0.20  0.05   1.3      10.03460         45.9036\n",
       "2           2  3.0  0.35  0.05   1.3      10.01620         46.3245\n",
       "3           3  4.0  0.50  0.05   1.3      10.00010         46.9934\n",
       "4           4  5.0  0.65  0.05   1.3       9.98624         47.9332"
      ]
     },
     "execution_count": 4,
     "metadata": {},
     "output_type": "execute_result"
    }
   ],
   "source": [
    "# CSV load\n",
    "\n",
    "df = pd.read_csv(\"Indoor_floor_plan_org_no_room_baseline.csv\")\n",
    "df.head()"
   ]
  },
  {
   "cell_type": "code",
   "execution_count": 5,
   "metadata": {},
   "outputs": [
    {
     "name": "stdout",
     "output_type": "stream",
     "text": [
      "<class 'pandas.core.frame.DataFrame'>\n",
      "RangeIndex: 6678 entries, 0 to 6677\n",
      "Data columns (total 7 columns):\n",
      " #   Column          Non-Null Count  Dtype  \n",
      "---  ------          --------------  -----  \n",
      " 0   Unnamed: 0      6678 non-null   int64  \n",
      " 1   Rx#             6678 non-null   float64\n",
      " 2   X(m)            6678 non-null   float64\n",
      " 3   Y(m)            6678 non-null   float64\n",
      " 4   Z(m)            6678 non-null   float64\n",
      " 5   Distance (m)    6678 non-null   float64\n",
      " 6   Path Loss (dB)  6678 non-null   float64\n",
      "dtypes: float64(6), int64(1)\n",
      "memory usage: 365.3 KB\n"
     ]
    }
   ],
   "source": [
    "df.info()"
   ]
  },
  {
   "cell_type": "code",
   "execution_count": 6,
   "metadata": {},
   "outputs": [
    {
     "data": {
      "text/html": [
       "<div>\n",
       "<style scoped>\n",
       "    .dataframe tbody tr th:only-of-type {\n",
       "        vertical-align: middle;\n",
       "    }\n",
       "\n",
       "    .dataframe tbody tr th {\n",
       "        vertical-align: top;\n",
       "    }\n",
       "\n",
       "    .dataframe thead th {\n",
       "        text-align: right;\n",
       "    }\n",
       "</style>\n",
       "<table border=\"1\" class=\"dataframe\">\n",
       "  <thead>\n",
       "    <tr style=\"text-align: right;\">\n",
       "      <th></th>\n",
       "      <th>Unnamed: 0</th>\n",
       "      <th>Rx#</th>\n",
       "      <th>X(m)</th>\n",
       "      <th>Y(m)</th>\n",
       "      <th>Z(m)</th>\n",
       "      <th>Distance (m)</th>\n",
       "      <th>Path Loss (dB)</th>\n",
       "    </tr>\n",
       "  </thead>\n",
       "  <tbody>\n",
       "    <tr>\n",
       "      <th>count</th>\n",
       "      <td>6678.000000</td>\n",
       "      <td>6678.000000</td>\n",
       "      <td>6678.000000</td>\n",
       "      <td>6678.000000</td>\n",
       "      <td>6.678000e+03</td>\n",
       "      <td>6678.000000</td>\n",
       "      <td>6678.000000</td>\n",
       "    </tr>\n",
       "    <tr>\n",
       "      <th>mean</th>\n",
       "      <td>3338.500000</td>\n",
       "      <td>3339.500000</td>\n",
       "      <td>4.700000</td>\n",
       "      <td>7.925000</td>\n",
       "      <td>1.300000e+00</td>\n",
       "      <td>6.003092</td>\n",
       "      <td>60.704859</td>\n",
       "    </tr>\n",
       "    <tr>\n",
       "      <th>std</th>\n",
       "      <td>1927.916881</td>\n",
       "      <td>1927.916881</td>\n",
       "      <td>2.727841</td>\n",
       "      <td>4.590074</td>\n",
       "      <td>2.220612e-16</td>\n",
       "      <td>2.648621</td>\n",
       "      <td>43.365007</td>\n",
       "    </tr>\n",
       "    <tr>\n",
       "      <th>min</th>\n",
       "      <td>0.000000</td>\n",
       "      <td>1.000000</td>\n",
       "      <td>0.050000</td>\n",
       "      <td>0.050000</td>\n",
       "      <td>1.300000e+00</td>\n",
       "      <td>0.070710</td>\n",
       "      <td>8.560370</td>\n",
       "    </tr>\n",
       "    <tr>\n",
       "      <th>25%</th>\n",
       "      <td>1669.250000</td>\n",
       "      <td>1670.250000</td>\n",
       "      <td>2.300000</td>\n",
       "      <td>3.950000</td>\n",
       "      <td>1.300000e+00</td>\n",
       "      <td>4.030432</td>\n",
       "      <td>44.885525</td>\n",
       "    </tr>\n",
       "    <tr>\n",
       "      <th>50%</th>\n",
       "      <td>3338.500000</td>\n",
       "      <td>3339.500000</td>\n",
       "      <td>4.700000</td>\n",
       "      <td>7.925000</td>\n",
       "      <td>1.300000e+00</td>\n",
       "      <td>6.042765</td>\n",
       "      <td>51.442950</td>\n",
       "    </tr>\n",
       "    <tr>\n",
       "      <th>75%</th>\n",
       "      <td>5007.750000</td>\n",
       "      <td>5008.750000</td>\n",
       "      <td>7.100000</td>\n",
       "      <td>11.900000</td>\n",
       "      <td>1.300000e+00</td>\n",
       "      <td>7.948900</td>\n",
       "      <td>59.675775</td>\n",
       "    </tr>\n",
       "    <tr>\n",
       "      <th>max</th>\n",
       "      <td>6677.000000</td>\n",
       "      <td>6678.000000</td>\n",
       "      <td>9.350000</td>\n",
       "      <td>15.800000</td>\n",
       "      <td>1.300000e+00</td>\n",
       "      <td>12.673800</td>\n",
       "      <td>250.000000</td>\n",
       "    </tr>\n",
       "  </tbody>\n",
       "</table>\n",
       "</div>"
      ],
      "text/plain": [
       "        Unnamed: 0          Rx#         X(m)         Y(m)          Z(m)  \\\n",
       "count  6678.000000  6678.000000  6678.000000  6678.000000  6.678000e+03   \n",
       "mean   3338.500000  3339.500000     4.700000     7.925000  1.300000e+00   \n",
       "std    1927.916881  1927.916881     2.727841     4.590074  2.220612e-16   \n",
       "min       0.000000     1.000000     0.050000     0.050000  1.300000e+00   \n",
       "25%    1669.250000  1670.250000     2.300000     3.950000  1.300000e+00   \n",
       "50%    3338.500000  3339.500000     4.700000     7.925000  1.300000e+00   \n",
       "75%    5007.750000  5008.750000     7.100000    11.900000  1.300000e+00   \n",
       "max    6677.000000  6678.000000     9.350000    15.800000  1.300000e+00   \n",
       "\n",
       "       Distance (m)  Path Loss (dB)  \n",
       "count   6678.000000     6678.000000  \n",
       "mean       6.003092       60.704859  \n",
       "std        2.648621       43.365007  \n",
       "min        0.070710        8.560370  \n",
       "25%        4.030432       44.885525  \n",
       "50%        6.042765       51.442950  \n",
       "75%        7.948900       59.675775  \n",
       "max       12.673800      250.000000  "
      ]
     },
     "execution_count": 6,
     "metadata": {},
     "output_type": "execute_result"
    }
   ],
   "source": [
    "df.describe()"
   ]
  },
  {
   "cell_type": "code",
   "execution_count": 7,
   "metadata": {},
   "outputs": [],
   "source": [
    "# independent and dependent variables before removing rows having pathloss = 250\n",
    "\n",
    "X_actual = df[['X(m)','Y(m)']]          # Location of Rxs\n",
    "y_actual = df[['Path Loss (dB)']]       # Pathloss"
   ]
  },
  {
   "cell_type": "code",
   "execution_count": 8,
   "metadata": {},
   "outputs": [
    {
     "data": {
      "text/plain": [
       "((6678, 2), (6678, 1))"
      ]
     },
     "execution_count": 8,
     "metadata": {},
     "output_type": "execute_result"
    }
   ],
   "source": [
    "X_actual.shape, y_actual.shape"
   ]
  },
  {
   "cell_type": "code",
   "execution_count": 9,
   "metadata": {},
   "outputs": [
    {
     "data": {
      "text/plain": [
       "316"
      ]
     },
     "execution_count": 9,
     "metadata": {},
     "output_type": "execute_result"
    }
   ],
   "source": [
    "# Removing rows having pathloss = 250 (maximum) in the pathloss column\n",
    "# note- rows having pathloss of 250 correspond to rows of phi, theta and time as zero.\n",
    "\n",
    "(df['Path Loss (dB)'] == 250).sum()                            "
   ]
  },
  {
   "cell_type": "code",
   "execution_count": 10,
   "metadata": {},
   "outputs": [],
   "source": [
    "# replacing 250 values with nan. It will drop entire row.\n",
    "\n",
    "df['Path Loss (dB)'] = np.where(df['Path Loss (dB)'] == 250, np.nan, df['Path Loss (dB)'])"
   ]
  },
  {
   "cell_type": "code",
   "execution_count": 11,
   "metadata": {},
   "outputs": [
    {
     "data": {
      "text/plain": [
       "Unnamed: 0          0\n",
       "Rx#                 0\n",
       "X(m)                0\n",
       "Y(m)                0\n",
       "Z(m)                0\n",
       "Distance (m)        0\n",
       "Path Loss (dB)    316\n",
       "dtype: int64"
      ]
     },
     "execution_count": 11,
     "metadata": {},
     "output_type": "execute_result"
    }
   ],
   "source": [
    "df.isnull().sum() # checking number/shape of null/nan vaues "
   ]
  },
  {
   "cell_type": "code",
   "execution_count": 12,
   "metadata": {},
   "outputs": [],
   "source": [
    "df = df.dropna() # now dropping rows having nan values. It will drop entire rows of dataframe."
   ]
  },
  {
   "cell_type": "code",
   "execution_count": 13,
   "metadata": {},
   "outputs": [
    {
     "data": {
      "text/plain": [
       "Unnamed: 0        0\n",
       "Rx#               0\n",
       "X(m)              0\n",
       "Y(m)              0\n",
       "Z(m)              0\n",
       "Distance (m)      0\n",
       "Path Loss (dB)    0\n",
       "dtype: int64"
      ]
     },
     "execution_count": 13,
     "metadata": {},
     "output_type": "execute_result"
    }
   ],
   "source": [
    "df.isnull().sum() # checking shape/size after dropping nan"
   ]
  },
  {
   "cell_type": "code",
   "execution_count": 14,
   "metadata": {},
   "outputs": [
    {
     "data": {
      "text/plain": [
       "(6362, 7)"
      ]
     },
     "execution_count": 14,
     "metadata": {},
     "output_type": "execute_result"
    }
   ],
   "source": [
    "df.shape  # final dataframe after removing the rows having pathloss = 250 "
   ]
  },
  {
   "cell_type": "code",
   "execution_count": 15,
   "metadata": {},
   "outputs": [],
   "source": [
    "df_final = df # final dataframe after removing the rows having pathloss = 250"
   ]
  },
  {
   "cell_type": "code",
   "execution_count": 16,
   "metadata": {},
   "outputs": [
    {
     "data": {
      "text/html": [
       "<div>\n",
       "<style scoped>\n",
       "    .dataframe tbody tr th:only-of-type {\n",
       "        vertical-align: middle;\n",
       "    }\n",
       "\n",
       "    .dataframe tbody tr th {\n",
       "        vertical-align: top;\n",
       "    }\n",
       "\n",
       "    .dataframe thead th {\n",
       "        text-align: right;\n",
       "    }\n",
       "</style>\n",
       "<table border=\"1\" class=\"dataframe\">\n",
       "  <thead>\n",
       "    <tr style=\"text-align: right;\">\n",
       "      <th></th>\n",
       "      <th>Unnamed: 0</th>\n",
       "      <th>Rx#</th>\n",
       "      <th>X(m)</th>\n",
       "      <th>Y(m)</th>\n",
       "      <th>Z(m)</th>\n",
       "      <th>Distance (m)</th>\n",
       "      <th>Path Loss (dB)</th>\n",
       "    </tr>\n",
       "  </thead>\n",
       "  <tbody>\n",
       "    <tr>\n",
       "      <th>0</th>\n",
       "      <td>0</td>\n",
       "      <td>1.0</td>\n",
       "      <td>0.05</td>\n",
       "      <td>0.05</td>\n",
       "      <td>1.3</td>\n",
       "      <td>10.05510</td>\n",
       "      <td>53.7739</td>\n",
       "    </tr>\n",
       "    <tr>\n",
       "      <th>1</th>\n",
       "      <td>1</td>\n",
       "      <td>2.0</td>\n",
       "      <td>0.20</td>\n",
       "      <td>0.05</td>\n",
       "      <td>1.3</td>\n",
       "      <td>10.03460</td>\n",
       "      <td>45.9036</td>\n",
       "    </tr>\n",
       "    <tr>\n",
       "      <th>2</th>\n",
       "      <td>2</td>\n",
       "      <td>3.0</td>\n",
       "      <td>0.35</td>\n",
       "      <td>0.05</td>\n",
       "      <td>1.3</td>\n",
       "      <td>10.01620</td>\n",
       "      <td>46.3245</td>\n",
       "    </tr>\n",
       "    <tr>\n",
       "      <th>3</th>\n",
       "      <td>3</td>\n",
       "      <td>4.0</td>\n",
       "      <td>0.50</td>\n",
       "      <td>0.05</td>\n",
       "      <td>1.3</td>\n",
       "      <td>10.00010</td>\n",
       "      <td>46.9934</td>\n",
       "    </tr>\n",
       "    <tr>\n",
       "      <th>4</th>\n",
       "      <td>4</td>\n",
       "      <td>5.0</td>\n",
       "      <td>0.65</td>\n",
       "      <td>0.05</td>\n",
       "      <td>1.3</td>\n",
       "      <td>9.98624</td>\n",
       "      <td>47.9332</td>\n",
       "    </tr>\n",
       "  </tbody>\n",
       "</table>\n",
       "</div>"
      ],
      "text/plain": [
       "   Unnamed: 0  Rx#  X(m)  Y(m)  Z(m)  Distance (m)  Path Loss (dB)\n",
       "0           0  1.0  0.05  0.05   1.3      10.05510         53.7739\n",
       "1           1  2.0  0.20  0.05   1.3      10.03460         45.9036\n",
       "2           2  3.0  0.35  0.05   1.3      10.01620         46.3245\n",
       "3           3  4.0  0.50  0.05   1.3      10.00010         46.9934\n",
       "4           4  5.0  0.65  0.05   1.3       9.98624         47.9332"
      ]
     },
     "execution_count": 16,
     "metadata": {},
     "output_type": "execute_result"
    }
   ],
   "source": [
    "df_final.head()"
   ]
  },
  {
   "cell_type": "code",
   "execution_count": 17,
   "metadata": {},
   "outputs": [
    {
     "data": {
      "text/plain": [
       "(6362, 7)"
      ]
     },
     "execution_count": 17,
     "metadata": {},
     "output_type": "execute_result"
    }
   ],
   "source": [
    "df_final.shape"
   ]
  },
  {
   "cell_type": "code",
   "execution_count": 18,
   "metadata": {},
   "outputs": [
    {
     "data": {
      "text/html": [
       "<div>\n",
       "<style scoped>\n",
       "    .dataframe tbody tr th:only-of-type {\n",
       "        vertical-align: middle;\n",
       "    }\n",
       "\n",
       "    .dataframe tbody tr th {\n",
       "        vertical-align: top;\n",
       "    }\n",
       "\n",
       "    .dataframe thead th {\n",
       "        text-align: right;\n",
       "    }\n",
       "</style>\n",
       "<table border=\"1\" class=\"dataframe\">\n",
       "  <thead>\n",
       "    <tr style=\"text-align: right;\">\n",
       "      <th></th>\n",
       "      <th>Unnamed: 0</th>\n",
       "      <th>Rx#</th>\n",
       "      <th>X(m)</th>\n",
       "      <th>Y(m)</th>\n",
       "      <th>Z(m)</th>\n",
       "      <th>Distance (m)</th>\n",
       "      <th>Path Loss (dB)</th>\n",
       "    </tr>\n",
       "  </thead>\n",
       "  <tbody>\n",
       "    <tr>\n",
       "      <th>count</th>\n",
       "      <td>6362.000000</td>\n",
       "      <td>6362.000000</td>\n",
       "      <td>6362.000000</td>\n",
       "      <td>6362.000000</td>\n",
       "      <td>6.362000e+03</td>\n",
       "      <td>6362.000000</td>\n",
       "      <td>6362.000000</td>\n",
       "    </tr>\n",
       "    <tr>\n",
       "      <th>mean</th>\n",
       "      <td>3402.914335</td>\n",
       "      <td>3403.914335</td>\n",
       "      <td>4.549717</td>\n",
       "      <td>8.080753</td>\n",
       "      <td>1.300000e+00</td>\n",
       "      <td>5.895641</td>\n",
       "      <td>51.302585</td>\n",
       "    </tr>\n",
       "    <tr>\n",
       "      <th>std</th>\n",
       "      <td>1951.143252</td>\n",
       "      <td>1951.143252</td>\n",
       "      <td>2.700269</td>\n",
       "      <td>4.643685</td>\n",
       "      <td>2.220621e-16</td>\n",
       "      <td>2.660364</td>\n",
       "      <td>10.268534</td>\n",
       "    </tr>\n",
       "    <tr>\n",
       "      <th>min</th>\n",
       "      <td>0.000000</td>\n",
       "      <td>1.000000</td>\n",
       "      <td>0.050000</td>\n",
       "      <td>0.050000</td>\n",
       "      <td>1.300000e+00</td>\n",
       "      <td>0.070710</td>\n",
       "      <td>8.560370</td>\n",
       "    </tr>\n",
       "    <tr>\n",
       "      <th>25%</th>\n",
       "      <td>1646.250000</td>\n",
       "      <td>1647.250000</td>\n",
       "      <td>2.300000</td>\n",
       "      <td>3.950000</td>\n",
       "      <td>1.300000e+00</td>\n",
       "      <td>3.925317</td>\n",
       "      <td>44.533925</td>\n",
       "    </tr>\n",
       "    <tr>\n",
       "      <th>50%</th>\n",
       "      <td>3496.500000</td>\n",
       "      <td>3497.500000</td>\n",
       "      <td>4.550000</td>\n",
       "      <td>8.300000</td>\n",
       "      <td>1.300000e+00</td>\n",
       "      <td>5.856830</td>\n",
       "      <td>50.851600</td>\n",
       "    </tr>\n",
       "    <tr>\n",
       "      <th>75%</th>\n",
       "      <td>5086.750000</td>\n",
       "      <td>5087.750000</td>\n",
       "      <td>6.800000</td>\n",
       "      <td>12.050000</td>\n",
       "      <td>1.300000e+00</td>\n",
       "      <td>7.850160</td>\n",
       "      <td>58.358475</td>\n",
       "    </tr>\n",
       "    <tr>\n",
       "      <th>max</th>\n",
       "      <td>6677.000000</td>\n",
       "      <td>6678.000000</td>\n",
       "      <td>9.350000</td>\n",
       "      <td>15.800000</td>\n",
       "      <td>1.300000e+00</td>\n",
       "      <td>12.673800</td>\n",
       "      <td>91.733600</td>\n",
       "    </tr>\n",
       "  </tbody>\n",
       "</table>\n",
       "</div>"
      ],
      "text/plain": [
       "        Unnamed: 0          Rx#         X(m)         Y(m)          Z(m)  \\\n",
       "count  6362.000000  6362.000000  6362.000000  6362.000000  6.362000e+03   \n",
       "mean   3402.914335  3403.914335     4.549717     8.080753  1.300000e+00   \n",
       "std    1951.143252  1951.143252     2.700269     4.643685  2.220621e-16   \n",
       "min       0.000000     1.000000     0.050000     0.050000  1.300000e+00   \n",
       "25%    1646.250000  1647.250000     2.300000     3.950000  1.300000e+00   \n",
       "50%    3496.500000  3497.500000     4.550000     8.300000  1.300000e+00   \n",
       "75%    5086.750000  5087.750000     6.800000    12.050000  1.300000e+00   \n",
       "max    6677.000000  6678.000000     9.350000    15.800000  1.300000e+00   \n",
       "\n",
       "       Distance (m)  Path Loss (dB)  \n",
       "count   6362.000000     6362.000000  \n",
       "mean       5.895641       51.302585  \n",
       "std        2.660364       10.268534  \n",
       "min        0.070710        8.560370  \n",
       "25%        3.925317       44.533925  \n",
       "50%        5.856830       50.851600  \n",
       "75%        7.850160       58.358475  \n",
       "max       12.673800       91.733600  "
      ]
     },
     "execution_count": 18,
     "metadata": {},
     "output_type": "execute_result"
    }
   ],
   "source": [
    "df_final.describe()"
   ]
  },
  {
   "cell_type": "markdown",
   "metadata": {},
   "source": [
    "#### The distplot represents the univariate distribution of data i.e. data distribution of a variable against the density distribution. It shows the histogram with a line on it."
   ]
  },
  {
   "cell_type": "code",
   "execution_count": 19,
   "metadata": {},
   "outputs": [],
   "source": [
    "# function to see distribution\n",
    "\n",
    "def plot(df_final, feature):\n",
    "    sns.distplot(df_final[feature])\n",
    "    plt.show()"
   ]
  },
  {
   "cell_type": "code",
   "execution_count": 20,
   "metadata": {},
   "outputs": [
    {
     "data": {
      "image/png": "[encoded data removed]",
      "text/plain": [
       "<Figure size 432x288 with 1 Axes>"
      ]
     },
     "metadata": {
      "needs_background": "light"
     },
     "output_type": "display_data"
    },
    {
     "data": {
      "image/png": "[encoded data removed]",
      "text/plain": [
       "<Figure size 432x288 with 1 Axes>"
      ]
     },
     "metadata": {
      "needs_background": "light"
     },
     "output_type": "display_data"
    },
    {
     "data": {
      "image/png": "[encoded data removed]",
      "text/plain": [
       "<Figure size 432x288 with 1 Axes>"
      ]
     },
     "metadata": {
      "needs_background": "light"
     },
     "output_type": "display_data"
    }
   ],
   "source": [
    "for feature in df_final[['X(m)', 'Y(m)', 'Path Loss (dB)']]:  # seeing distribution of inputs and output\n",
    "    plot(df_final, feature)"
   ]
  },
  {
   "cell_type": "code",
   "execution_count": 21,
   "metadata": {},
   "outputs": [
    {
     "data": {
      "text/plain": [
       "<AxesSubplot:>"
      ]
     },
     "execution_count": 21,
     "metadata": {},
     "output_type": "execute_result"
    },
    {
     "data": {
      "image/png": "[encoded data removed]",
      "text/plain": [
       "<Figure size 432x288 with 2 Axes>"
      ]
     },
     "metadata": {
      "needs_background": "light"
     },
     "output_type": "display_data"
    }
   ],
   "source": [
    "# Seeing correlation heatmap between inputs and outputs # No good correlation here.\n",
    "\n",
    "columns = df_final[['X(m)', 'Y(m)', 'Path Loss (dB)']]\n",
    "sns.heatmap(columns.corr(),annot = True)"
   ]
  },
  {
   "cell_type": "code",
   "execution_count": 22,
   "metadata": {},
   "outputs": [
    {
     "data": {
      "text/plain": [
       "(6362, 2)"
      ]
     },
     "execution_count": 22,
     "metadata": {},
     "output_type": "execute_result"
    }
   ],
   "source": [
    "# Input data i.e. location of Rxs (x,y) \n",
    "\n",
    "inputs = df_final[['X(m)','Y(m)']]\n",
    "inputs.shape"
   ]
  },
  {
   "cell_type": "code",
   "execution_count": 23,
   "metadata": {},
   "outputs": [
    {
     "data": {
      "text/html": [
       "<div>\n",
       "<style scoped>\n",
       "    .dataframe tbody tr th:only-of-type {\n",
       "        vertical-align: middle;\n",
       "    }\n",
       "\n",
       "    .dataframe tbody tr th {\n",
       "        vertical-align: top;\n",
       "    }\n",
       "\n",
       "    .dataframe thead th {\n",
       "        text-align: right;\n",
       "    }\n",
       "</style>\n",
       "<table border=\"1\" class=\"dataframe\">\n",
       "  <thead>\n",
       "    <tr style=\"text-align: right;\">\n",
       "      <th></th>\n",
       "      <th>X(m)</th>\n",
       "      <th>Y(m)</th>\n",
       "    </tr>\n",
       "  </thead>\n",
       "  <tbody>\n",
       "    <tr>\n",
       "      <th>0</th>\n",
       "      <td>0.05</td>\n",
       "      <td>0.05</td>\n",
       "    </tr>\n",
       "    <tr>\n",
       "      <th>1</th>\n",
       "      <td>0.20</td>\n",
       "      <td>0.05</td>\n",
       "    </tr>\n",
       "    <tr>\n",
       "      <th>2</th>\n",
       "      <td>0.35</td>\n",
       "      <td>0.05</td>\n",
       "    </tr>\n",
       "    <tr>\n",
       "      <th>3</th>\n",
       "      <td>0.50</td>\n",
       "      <td>0.05</td>\n",
       "    </tr>\n",
       "    <tr>\n",
       "      <th>4</th>\n",
       "      <td>0.65</td>\n",
       "      <td>0.05</td>\n",
       "    </tr>\n",
       "  </tbody>\n",
       "</table>\n",
       "</div>"
      ],
      "text/plain": [
       "   X(m)  Y(m)\n",
       "0  0.05  0.05\n",
       "1  0.20  0.05\n",
       "2  0.35  0.05\n",
       "3  0.50  0.05\n",
       "4  0.65  0.05"
      ]
     },
     "execution_count": 23,
     "metadata": {},
     "output_type": "execute_result"
    }
   ],
   "source": [
    "inputs.head()"
   ]
  },
  {
   "cell_type": "code",
   "execution_count": 24,
   "metadata": {},
   "outputs": [
    {
     "data": {
      "text/plain": [
       "pandas.core.frame.DataFrame"
      ]
     },
     "execution_count": 24,
     "metadata": {},
     "output_type": "execute_result"
    }
   ],
   "source": [
    "type(inputs)"
   ]
  },
  {
   "cell_type": "code",
   "execution_count": 25,
   "metadata": {},
   "outputs": [
    {
     "data": {
      "text/plain": [
       "(6362, 1)"
      ]
     },
     "execution_count": 25,
     "metadata": {},
     "output_type": "execute_result"
    }
   ],
   "source": [
    "# Output data # path loss obtained at each location\n",
    "\n",
    "output=df_final[['Path Loss (dB)']] \n",
    "output.shape"
   ]
  },
  {
   "cell_type": "code",
   "execution_count": 26,
   "metadata": {},
   "outputs": [
    {
     "data": {
      "text/html": [
       "<div>\n",
       "<style scoped>\n",
       "    .dataframe tbody tr th:only-of-type {\n",
       "        vertical-align: middle;\n",
       "    }\n",
       "\n",
       "    .dataframe tbody tr th {\n",
       "        vertical-align: top;\n",
       "    }\n",
       "\n",
       "    .dataframe thead th {\n",
       "        text-align: right;\n",
       "    }\n",
       "</style>\n",
       "<table border=\"1\" class=\"dataframe\">\n",
       "  <thead>\n",
       "    <tr style=\"text-align: right;\">\n",
       "      <th></th>\n",
       "      <th>Path Loss (dB)</th>\n",
       "    </tr>\n",
       "  </thead>\n",
       "  <tbody>\n",
       "    <tr>\n",
       "      <th>0</th>\n",
       "      <td>53.7739</td>\n",
       "    </tr>\n",
       "    <tr>\n",
       "      <th>1</th>\n",
       "      <td>45.9036</td>\n",
       "    </tr>\n",
       "    <tr>\n",
       "      <th>2</th>\n",
       "      <td>46.3245</td>\n",
       "    </tr>\n",
       "    <tr>\n",
       "      <th>3</th>\n",
       "      <td>46.9934</td>\n",
       "    </tr>\n",
       "    <tr>\n",
       "      <th>4</th>\n",
       "      <td>47.9332</td>\n",
       "    </tr>\n",
       "  </tbody>\n",
       "</table>\n",
       "</div>"
      ],
      "text/plain": [
       "   Path Loss (dB)\n",
       "0         53.7739\n",
       "1         45.9036\n",
       "2         46.3245\n",
       "3         46.9934\n",
       "4         47.9332"
      ]
     },
     "execution_count": 26,
     "metadata": {},
     "output_type": "execute_result"
    }
   ],
   "source": [
    "output.head()"
   ]
  },
  {
   "cell_type": "code",
   "execution_count": 27,
   "metadata": {},
   "outputs": [
    {
     "data": {
      "text/plain": [
       "pandas.core.frame.DataFrame"
      ]
     },
     "execution_count": 27,
     "metadata": {},
     "output_type": "execute_result"
    }
   ],
   "source": [
    "type(output)"
   ]
  },
  {
   "cell_type": "code",
   "execution_count": 28,
   "metadata": {},
   "outputs": [],
   "source": [
    "########################################### PCA starts here ############################################"
   ]
  },
  {
   "cell_type": "code",
   "execution_count": 29,
   "metadata": {},
   "outputs": [],
   "source": [
    "# No need of PCA here due to two features only #"
   ]
  },
  {
   "cell_type": "code",
   "execution_count": 30,
   "metadata": {},
   "outputs": [],
   "source": [
    "##################################### PCA over here ####################################################"
   ]
  },
  {
   "cell_type": "code",
   "execution_count": 31,
   "metadata": {},
   "outputs": [
    {
     "data": {
      "text/plain": [
       "array([[ 0.05,  0.05],\n",
       "       [ 0.2 ,  0.05],\n",
       "       [ 0.35,  0.05],\n",
       "       ...,\n",
       "       [ 9.05, 15.8 ],\n",
       "       [ 9.2 , 15.8 ],\n",
       "       [ 9.35, 15.8 ]])"
      ]
     },
     "execution_count": 31,
     "metadata": {},
     "output_type": "execute_result"
    }
   ],
   "source": [
    "# Pre-processing\n",
    "\n",
    "x = inputs.values  # converting dataframe \"inputs\" into array form\n",
    "x # location of receivers (X and Y co-ordinates)"
   ]
  },
  {
   "cell_type": "code",
   "execution_count": 32,
   "metadata": {},
   "outputs": [
    {
     "data": {
      "text/plain": [
       "array([[53.7739],\n",
       "       [45.9036],\n",
       "       [46.3245],\n",
       "       ...,\n",
       "       [59.6553],\n",
       "       [63.507 ],\n",
       "       [57.4723]])"
      ]
     },
     "execution_count": 32,
     "metadata": {},
     "output_type": "execute_result"
    }
   ],
   "source": [
    "y = output.values # converting dataframe \"output\" into array form \n",
    "y # y is path loss at each location"
   ]
  },
  {
   "cell_type": "code",
   "execution_count": 33,
   "metadata": {},
   "outputs": [
    {
     "data": {
      "text/plain": [
       "(6362, 1)"
      ]
     },
     "execution_count": 33,
     "metadata": {},
     "output_type": "execute_result"
    }
   ],
   "source": [
    "y.shape"
   ]
  },
  {
   "cell_type": "code",
   "execution_count": 34,
   "metadata": {},
   "outputs": [
    {
     "data": {
      "text/plain": [
       "numpy.ndarray"
      ]
     },
     "execution_count": 34,
     "metadata": {},
     "output_type": "execute_result"
    }
   ],
   "source": [
    "type(y)"
   ]
  },
  {
   "cell_type": "code",
   "execution_count": 35,
   "metadata": {},
   "outputs": [],
   "source": [
    "# Splitting data for training and testing \n",
    "# Here both x and y are in array form (non-scaled)\n",
    "\n",
    "from sklearn.model_selection import train_test_split\n",
    "\n",
    "x_train, x_test, y_train, y_test = train_test_split(x, y, test_size=0.3, random_state=0) \n",
    "\n",
    "# x_train, x_test, y_train, y_test = train_test_split(x, y, test_size=0.2, shuffle=True)"
   ]
  },
  {
   "cell_type": "code",
   "execution_count": 36,
   "metadata": {},
   "outputs": [],
   "source": [
    "# Feature Scaling # MinMaxScaler # zero mean, unit variance # range [0,1].\n",
    "# Here scaling input and output both (but separately)\n",
    "\n",
    "scaler1 = MinMaxScaler()\n",
    "x_train = scaler1.fit_transform(x_train)\n",
    "x_test = scaler1.transform(x_test)\n",
    "\n",
    "scaler2 = MinMaxScaler()\n",
    "y_train = scaler2.fit_transform(y_train)\n",
    "y_test = scaler2.transform(y_test)"
   ]
  },
  {
   "cell_type": "code",
   "execution_count": 37,
   "metadata": {},
   "outputs": [],
   "source": [
    "# x_train.min(), x_test.max()"
   ]
  },
  {
   "cell_type": "code",
   "execution_count": 38,
   "metadata": {},
   "outputs": [],
   "source": [
    " # Converting dataframe into array\n",
    "    \n",
    "X_actual_arr = X_actual.values  "
   ]
  },
  {
   "cell_type": "code",
   "execution_count": 39,
   "metadata": {},
   "outputs": [],
   "source": [
    "# Scaling \n",
    "\n",
    "X_actual_norm = scaler1.fit_transform(X_actual_arr)"
   ]
  },
  {
   "cell_type": "code",
   "execution_count": 40,
   "metadata": {},
   "outputs": [
    {
     "data": {
      "text/plain": [
       "(6678, 2)"
      ]
     },
     "execution_count": 40,
     "metadata": {},
     "output_type": "execute_result"
    }
   ],
   "source": [
    "X_actual_norm.shape"
   ]
  },
  {
   "cell_type": "code",
   "execution_count": 41,
   "metadata": {},
   "outputs": [
    {
     "data": {
      "text/plain": [
       "(0.0, 1.0000000000000002)"
      ]
     },
     "execution_count": 41,
     "metadata": {},
     "output_type": "execute_result"
    }
   ],
   "source": [
    "X_actual_norm.min(), X_actual_norm.max() "
   ]
  },
  {
   "cell_type": "code",
   "execution_count": 42,
   "metadata": {},
   "outputs": [],
   "source": [
    "# Model developed for x=> y mapping i.e, location -> pathloss"
   ]
  },
  {
   "cell_type": "code",
   "execution_count": 43,
   "metadata": {},
   "outputs": [],
   "source": [
    "# Building neural network\n",
    "\n",
    "def baseline_model():\n",
    "    \n",
    "    # creating model\n",
    "    model = Sequential()\n",
    "    model.add(Dense(64, input_dim=x.shape[1], activation='relu', kernel_initializer='random_normal')) # Input layer and 1st hidden layer\n",
    "    # model.add(BatchNormalization())\n",
    "#     model.add(Dropout(0.2))\n",
    "    model.add(Dense(32, activation='relu', kernel_initializer='random_normal')) # 2nd Hidden layer\n",
    "    # model.add(BatchNormalization())\n",
    "#     model.add(Dropout(0.2))\n",
    "    model.add(Dense(16, activation='relu', kernel_initializer='random_normal')) # 3rd Hidden layer \n",
    "    model.add(Dense(y.shape[1], activation='relu', kernel_initializer='random_normal')) # Output Layer\n",
    "    # compiling model\n",
    "    model.compile(optimizer=Adam(learning_rate = 0.001), loss='mean_squared_error', metrics = ['mean_absolute_error']) \n",
    "    \n",
    "    return model"
   ]
  },
  {
   "cell_type": "code",
   "execution_count": 44,
   "metadata": {},
   "outputs": [],
   "source": [
    "m = baseline_model()"
   ]
  },
  {
   "cell_type": "code",
   "execution_count": 45,
   "metadata": {},
   "outputs": [
    {
     "name": "stdout",
     "output_type": "stream",
     "text": [
      "Model: \"sequential\"\n",
      "_________________________________________________________________\n",
      "Layer (type)                 Output Shape              Param #   \n",
      "=================================================================\n",
      "dense (Dense)                (None, 64)                192       \n",
      "_________________________________________________________________\n",
      "dense_1 (Dense)              (None, 32)                2080      \n",
      "_________________________________________________________________\n",
      "dense_2 (Dense)              (None, 16)                528       \n",
      "_________________________________________________________________\n",
      "dense_3 (Dense)              (None, 1)                 17        \n",
      "=================================================================\n",
      "Total params: 2,817\n",
      "Trainable params: 2,817\n",
      "Non-trainable params: 0\n",
      "_________________________________________________________________\n"
     ]
    }
   ],
   "source": [
    "m.summary()"
   ]
  },
  {
   "cell_type": "code",
   "execution_count": 46,
   "metadata": {},
   "outputs": [],
   "source": [
    "# Early Stopping\n",
    "\n",
    "early_stopping = keras.callbacks.EarlyStopping(monitor=\"val_loss\", patience=5, verbose=2)\n",
    "\n",
    "# it stops the training after 5 epochs if the validation loss doesn't improve\n",
    "# Verbosity mode 0 = silent, 1 = progress bar, 2 = one line per epoch."
   ]
  },
  {
   "cell_type": "code",
   "execution_count": 47,
   "metadata": {
    "scrolled": false
   },
   "outputs": [
    {
     "name": "stdout",
     "output_type": "stream",
     "text": [
      "Epoch 1/150\n",
      "279/279 [==============================] - 2s 3ms/step - loss: 0.0474 - mean_absolute_error: 0.1502 - val_loss: 0.0094 - val_mean_absolute_error: 0.0755\n",
      "Epoch 2/150\n",
      "279/279 [==============================] - 1s 2ms/step - loss: 0.0097 - mean_absolute_error: 0.0755 - val_loss: 0.0092 - val_mean_absolute_error: 0.0743\n",
      "Epoch 3/150\n",
      "279/279 [==============================] - 1s 3ms/step - loss: 0.0095 - mean_absolute_error: 0.0748 - val_loss: 0.0095 - val_mean_absolute_error: 0.0737\n",
      "Epoch 4/150\n",
      "279/279 [==============================] - 1s 3ms/step - loss: 0.0095 - mean_absolute_error: 0.0744 - val_loss: 0.0094 - val_mean_absolute_error: 0.0775\n",
      "Epoch 5/150\n",
      "279/279 [==============================] - 1s 3ms/step - loss: 0.0093 - mean_absolute_error: 0.0734 - val_loss: 0.0089 - val_mean_absolute_error: 0.0722\n",
      "Epoch 6/150\n",
      "279/279 [==============================] - 1s 3ms/step - loss: 0.0093 - mean_absolute_error: 0.0731 - val_loss: 0.0088 - val_mean_absolute_error: 0.0733\n",
      "Epoch 7/150\n",
      "279/279 [==============================] - 1s 3ms/step - loss: 0.0090 - mean_absolute_error: 0.0720 - val_loss: 0.0096 - val_mean_absolute_error: 0.0717\n",
      "Epoch 8/150\n",
      "279/279 [==============================] - 1s 3ms/step - loss: 0.0090 - mean_absolute_error: 0.0716 - val_loss: 0.0087 - val_mean_absolute_error: 0.0704\n",
      "Epoch 9/150\n",
      "279/279 [==============================] - 1s 3ms/step - loss: 0.0090 - mean_absolute_error: 0.0713 - val_loss: 0.0086 - val_mean_absolute_error: 0.0705\n",
      "Epoch 10/150\n",
      "279/279 [==============================] - 1s 2ms/step - loss: 0.0089 - mean_absolute_error: 0.0710 - val_loss: 0.0089 - val_mean_absolute_error: 0.0744\n",
      "Epoch 11/150\n",
      "279/279 [==============================] - 1s 2ms/step - loss: 0.0089 - mean_absolute_error: 0.0709 - val_loss: 0.0085 - val_mean_absolute_error: 0.0709\n",
      "Epoch 12/150\n",
      "279/279 [==============================] - 1s 2ms/step - loss: 0.0088 - mean_absolute_error: 0.0706 - val_loss: 0.0086 - val_mean_absolute_error: 0.0693\n",
      "Epoch 13/150\n",
      "279/279 [==============================] - 1s 2ms/step - loss: 0.0087 - mean_absolute_error: 0.0705 - val_loss: 0.0083 - val_mean_absolute_error: 0.0699\n",
      "Epoch 14/150\n",
      "279/279 [==============================] - 1s 2ms/step - loss: 0.0086 - mean_absolute_error: 0.0700 - val_loss: 0.0082 - val_mean_absolute_error: 0.0686\n",
      "Epoch 15/150\n",
      "279/279 [==============================] - 1s 2ms/step - loss: 0.0086 - mean_absolute_error: 0.0704 - val_loss: 0.0082 - val_mean_absolute_error: 0.0686\n",
      "Epoch 16/150\n",
      "279/279 [==============================] - 1s 2ms/step - loss: 0.0084 - mean_absolute_error: 0.0698 - val_loss: 0.0081 - val_mean_absolute_error: 0.0690\n",
      "Epoch 17/150\n",
      "279/279 [==============================] - 1s 2ms/step - loss: 0.0083 - mean_absolute_error: 0.0693 - val_loss: 0.0082 - val_mean_absolute_error: 0.0721\n",
      "Epoch 18/150\n",
      "279/279 [==============================] - 1s 2ms/step - loss: 0.0080 - mean_absolute_error: 0.0680 - val_loss: 0.0077 - val_mean_absolute_error: 0.0690\n",
      "Epoch 19/150\n",
      "279/279 [==============================] - 1s 2ms/step - loss: 0.0074 - mean_absolute_error: 0.0659 - val_loss: 0.0071 - val_mean_absolute_error: 0.0651\n",
      "Epoch 20/150\n",
      "279/279 [==============================] - 1s 2ms/step - loss: 0.0072 - mean_absolute_error: 0.0645 - val_loss: 0.0074 - val_mean_absolute_error: 0.0651\n",
      "Epoch 21/150\n",
      "279/279 [==============================] - 1s 3ms/step - loss: 0.0070 - mean_absolute_error: 0.0636 - val_loss: 0.0068 - val_mean_absolute_error: 0.0634\n",
      "Epoch 22/150\n",
      "279/279 [==============================] - 1s 3ms/step - loss: 0.0069 - mean_absolute_error: 0.0629 - val_loss: 0.0067 - val_mean_absolute_error: 0.0626\n",
      "Epoch 23/150\n",
      "279/279 [==============================] - 1s 2ms/step - loss: 0.0068 - mean_absolute_error: 0.0625 - val_loss: 0.0068 - val_mean_absolute_error: 0.0630\n",
      "Epoch 24/150\n",
      "279/279 [==============================] - 1s 3ms/step - loss: 0.0068 - mean_absolute_error: 0.0624 - val_loss: 0.0066 - val_mean_absolute_error: 0.0621\n",
      "Epoch 25/150\n",
      "279/279 [==============================] - 1s 3ms/step - loss: 0.0067 - mean_absolute_error: 0.0616 - val_loss: 0.0067 - val_mean_absolute_error: 0.0621\n",
      "Epoch 26/150\n",
      "279/279 [==============================] - 1s 3ms/step - loss: 0.0067 - mean_absolute_error: 0.0616 - val_loss: 0.0068 - val_mean_absolute_error: 0.0620\n",
      "Epoch 27/150\n",
      "279/279 [==============================] - 1s 3ms/step - loss: 0.0066 - mean_absolute_error: 0.0615 - val_loss: 0.0065 - val_mean_absolute_error: 0.0616\n",
      "Epoch 28/150\n",
      "279/279 [==============================] - 1s 3ms/step - loss: 0.0066 - mean_absolute_error: 0.0611 - val_loss: 0.0064 - val_mean_absolute_error: 0.0615\n",
      "Epoch 29/150\n",
      "279/279 [==============================] - 1s 2ms/step - loss: 0.0066 - mean_absolute_error: 0.0614 - val_loss: 0.0067 - val_mean_absolute_error: 0.0618\n",
      "Epoch 30/150\n",
      "279/279 [==============================] - 1s 2ms/step - loss: 0.0063 - mean_absolute_error: 0.0595 - val_loss: 0.0063 - val_mean_absolute_error: 0.0615\n",
      "Epoch 31/150\n",
      "279/279 [==============================] - 1s 2ms/step - loss: 0.0060 - mean_absolute_error: 0.0584 - val_loss: 0.0062 - val_mean_absolute_error: 0.0589\n",
      "Epoch 32/150\n",
      "279/279 [==============================] - 1s 3ms/step - loss: 0.0058 - mean_absolute_error: 0.0568 - val_loss: 0.0058 - val_mean_absolute_error: 0.0566\n",
      "Epoch 33/150\n",
      "279/279 [==============================] - 1s 2ms/step - loss: 0.0057 - mean_absolute_error: 0.0567 - val_loss: 0.0054 - val_mean_absolute_error: 0.0554\n",
      "Epoch 34/150\n",
      "279/279 [==============================] - 1s 3ms/step - loss: 0.0055 - mean_absolute_error: 0.0556 - val_loss: 0.0053 - val_mean_absolute_error: 0.0550\n",
      "Epoch 35/150\n",
      "279/279 [==============================] - 1s 3ms/step - loss: 0.0054 - mean_absolute_error: 0.0552 - val_loss: 0.0052 - val_mean_absolute_error: 0.0533\n",
      "Epoch 36/150\n",
      "279/279 [==============================] - 1s 3ms/step - loss: 0.0052 - mean_absolute_error: 0.0539 - val_loss: 0.0053 - val_mean_absolute_error: 0.0534\n",
      "Epoch 37/150\n",
      "279/279 [==============================] - 1s 3ms/step - loss: 0.0054 - mean_absolute_error: 0.0547 - val_loss: 0.0050 - val_mean_absolute_error: 0.0521\n",
      "Epoch 38/150\n",
      "279/279 [==============================] - 1s 2ms/step - loss: 0.0051 - mean_absolute_error: 0.0533 - val_loss: 0.0053 - val_mean_absolute_error: 0.0532\n",
      "Epoch 39/150\n",
      "279/279 [==============================] - 1s 2ms/step - loss: 0.0051 - mean_absolute_error: 0.0531 - val_loss: 0.0048 - val_mean_absolute_error: 0.0515\n",
      "Epoch 40/150\n",
      "279/279 [==============================] - ETA: 0s - loss: 0.0050 - mean_absolute_error: 0.052 - 1s 3ms/step - loss: 0.0050 - mean_absolute_error: 0.0528 - val_loss: 0.0051 - val_mean_absolute_error: 0.0548\n",
      "Epoch 41/150\n",
      "279/279 [==============================] - 1s 3ms/step - loss: 0.0050 - mean_absolute_error: 0.0529 - val_loss: 0.0052 - val_mean_absolute_error: 0.0561\n",
      "Epoch 42/150\n",
      "279/279 [==============================] - 1s 2ms/step - loss: 0.0050 - mean_absolute_error: 0.0527 - val_loss: 0.0048 - val_mean_absolute_error: 0.0520\n",
      "Epoch 43/150\n",
      "279/279 [==============================] - 1s 2ms/step - loss: 0.0049 - mean_absolute_error: 0.0524 - val_loss: 0.0049 - val_mean_absolute_error: 0.0518\n",
      "Epoch 44/150\n",
      "279/279 [==============================] - 1s 3ms/step - loss: 0.0049 - mean_absolute_error: 0.0526 - val_loss: 0.0048 - val_mean_absolute_error: 0.0506\n",
      "Epoch 45/150\n",
      "279/279 [==============================] - 1s 2ms/step - loss: 0.0049 - mean_absolute_error: 0.0530 - val_loss: 0.0054 - val_mean_absolute_error: 0.0539\n",
      "Epoch 46/150\n",
      "279/279 [==============================] - 1s 3ms/step - loss: 0.0049 - mean_absolute_error: 0.0521 - val_loss: 0.0047 - val_mean_absolute_error: 0.0503\n",
      "Epoch 47/150\n",
      "279/279 [==============================] - 1s 3ms/step - loss: 0.0048 - mean_absolute_error: 0.0520 - val_loss: 0.0047 - val_mean_absolute_error: 0.0515\n",
      "Epoch 48/150\n",
      "279/279 [==============================] - 1s 3ms/step - loss: 0.0048 - mean_absolute_error: 0.0519 - val_loss: 0.0050 - val_mean_absolute_error: 0.0509\n",
      "Epoch 49/150\n",
      "279/279 [==============================] - 1s 3ms/step - loss: 0.0048 - mean_absolute_error: 0.0518 - val_loss: 0.0050 - val_mean_absolute_error: 0.0517\n",
      "Epoch 50/150\n"
     ]
    },
    {
     "name": "stdout",
     "output_type": "stream",
     "text": [
      "279/279 [==============================] - 1s 3ms/step - loss: 0.0048 - mean_absolute_error: 0.0518 - val_loss: 0.0049 - val_mean_absolute_error: 0.0514\n",
      "Epoch 51/150\n",
      "279/279 [==============================] - 1s 3ms/step - loss: 0.0047 - mean_absolute_error: 0.0514 - val_loss: 0.0048 - val_mean_absolute_error: 0.0522\n",
      "Epoch 00051: early stopping\n"
     ]
    }
   ],
   "source": [
    "# Fitting Neural network to training set\n",
    "\n",
    "history=m.fit(x_train, y_train, validation_data=(x_test, y_test), callbacks=[early_stopping],\n",
    "              batch_size=16, epochs=150)\n",
    "\n",
    "# # verbose 0 = silent, 1 = progress bar, 2 = one line per epoch; verbose=2 is recommended."
   ]
  },
  {
   "cell_type": "code",
   "execution_count": 48,
   "metadata": {},
   "outputs": [],
   "source": [
    "# Fitting Neural network to training set\n",
    "\n",
    "# history=m.fit(x_train, y_train, validation_data=(x_test, y_test), \n",
    "#               batch_size=16, epochs=500)\n",
    "\n",
    "# verbose 0 = silent, 1 = progress bar, 2 = one line per epoch; verbose=2 is recommended."
   ]
  },
  {
   "cell_type": "code",
   "execution_count": 49,
   "metadata": {},
   "outputs": [],
   "source": [
    "# To save training history of model in csv file\n",
    "\n",
    "# pd.DataFrame(history.history).to_csv(\"training_history.csv\")"
   ]
  },
  {
   "cell_type": "code",
   "execution_count": 50,
   "metadata": {},
   "outputs": [
    {
     "name": "stdout",
     "output_type": "stream",
     "text": [
      "dict_keys(['loss', 'mean_absolute_error', 'val_loss', 'val_mean_absolute_error'])\n"
     ]
    }
   ],
   "source": [
    "# list all data (metrics) in training history\n",
    "\n",
    "print(history.history.keys())"
   ]
  },
  {
   "cell_type": "code",
   "execution_count": 51,
   "metadata": {},
   "outputs": [
    {
     "data": {
      "image/png": "[encoded data removed]",
      "text/plain": [
       "<Figure size 432x288 with 1 Axes>"
      ]
     },
     "metadata": {
      "needs_background": "light"
     },
     "output_type": "display_data"
    }
   ],
   "source": [
    "# To summarize history for accuracy\n",
    "# Plot of accuracy on the training and validation (test) datasets over training epochs\n",
    "\n",
    "acc = history.history['mean_absolute_error']\n",
    "val_acc = history.history['val_mean_absolute_error']\n",
    "\n",
    "plt.plot(acc)\n",
    "plt.plot(val_acc)\n",
    "plt.grid('True')\n",
    "plt.title('Model accuracy')\n",
    "plt.ylabel('Mean Absolute Error')\n",
    "plt.xlabel('Number of Epochs')\n",
    "plt.legend(['train', 'test'], loc='upper right')\n",
    "# plt.savefig('accuracy.pdf')\n",
    "plt.show()"
   ]
  },
  {
   "cell_type": "code",
   "execution_count": 52,
   "metadata": {},
   "outputs": [
    {
     "data": {
      "image/png": "[encoded data removed]",
      "text/plain": [
       "<Figure size 360x360 with 1 Axes>"
      ]
     },
     "metadata": {
      "needs_background": "light"
     },
     "output_type": "display_data"
    }
   ],
   "source": [
    "# To summarize history for loss\n",
    "# Plot of loss on the training and validation (test) datasets over training epochs.\n",
    "\n",
    "plt.figure(figsize=(5, 5))\n",
    "loss = history.history['loss']\n",
    "val_loss = history.history['val_loss']\n",
    "plt.plot(loss)\n",
    "plt.plot(val_loss)\n",
    "plt.grid('True')\n",
    "plt.title('Model loss (MSE)')\n",
    "plt.ylabel('Mean Square Error)')\n",
    "plt.xlabel('Number of Epochs')\n",
    "plt.legend(['train', 'test'], loc='upper right')\n",
    "# plt.ylim(0.002,0.012)\n",
    "# plt.savefig('loss.pdf')\n",
    "plt.show()"
   ]
  },
  {
   "cell_type": "code",
   "execution_count": 53,
   "metadata": {},
   "outputs": [],
   "source": [
    "# Making the predictions for testing\n",
    "\n",
    "# Predicting the Test set results\n",
    "y_pred = m.predict(x_test) \n",
    "# y_pred"
   ]
  },
  {
   "cell_type": "code",
   "execution_count": 54,
   "metadata": {},
   "outputs": [
    {
     "data": {
      "text/plain": [
       "(1909, 1)"
      ]
     },
     "execution_count": 54,
     "metadata": {},
     "output_type": "execute_result"
    }
   ],
   "source": [
    "y_pred.shape"
   ]
  },
  {
   "cell_type": "code",
   "execution_count": 55,
   "metadata": {},
   "outputs": [],
   "source": [
    "# Y actual from the predicted one.\n",
    "\n",
    "y_pred_all = m.predict(X_actual_norm)"
   ]
  },
  {
   "cell_type": "code",
   "execution_count": 56,
   "metadata": {},
   "outputs": [
    {
     "data": {
      "text/plain": [
       "(0.1696414, 0.7293147)"
      ]
     },
     "execution_count": 56,
     "metadata": {},
     "output_type": "execute_result"
    }
   ],
   "source": [
    "y_pred_all.min(), y_pred_all.max()"
   ]
  },
  {
   "cell_type": "code",
   "execution_count": 57,
   "metadata": {},
   "outputs": [
    {
     "data": {
      "text/plain": [
       "array([[55.946926],\n",
       "       [56.023598],\n",
       "       [56.099575],\n",
       "       ...,\n",
       "       [59.04268 ],\n",
       "       [58.7885  ],\n",
       "       [58.534336]], dtype=float32)"
      ]
     },
     "execution_count": 57,
     "metadata": {},
     "output_type": "execute_result"
    }
   ],
   "source": [
    "# Actual pathloss from the predicted pathloss \n",
    "\n",
    "y_pred_all_inv = scaler2.inverse_transform(y_pred_all)\n",
    "y_pred_all_inv"
   ]
  },
  {
   "cell_type": "code",
   "execution_count": 58,
   "metadata": {},
   "outputs": [
    {
     "data": {
      "text/plain": [
       "(25.502834, 68.80369)"
      ]
     },
     "execution_count": 58,
     "metadata": {},
     "output_type": "execute_result"
    }
   ],
   "source": [
    "y_pred_all_inv.min(), y_pred_all_inv.max()"
   ]
  },
  {
   "cell_type": "code",
   "execution_count": 59,
   "metadata": {},
   "outputs": [
    {
     "name": "stdout",
     "output_type": "stream",
     "text": [
      "Test Mean Squared error (MSE): 0.004787891431108487\n",
      "Test Root mean squared error (RMSE): 0.0691945910538424\n",
      "Test Mean absolute error (MAE): 0.05224689137191707\n",
      "R2 Score Test: 0.7211711477680405\n"
     ]
    }
   ],
   "source": [
    "# Model performance # Test error\n",
    "\n",
    "# Measure MSE error  \n",
    "mse_test = metrics.mean_squared_error(y_test, y_pred)\n",
    "print(\"Test Mean Squared error (MSE): {}\".format(mse_test))\n",
    "\n",
    "# Measure RMSE error \n",
    "rmse_test = np.sqrt(metrics.mean_squared_error(y_test, y_pred))\n",
    "print(\"Test Root mean squared error (RMSE): {}\".format(rmse_test))\n",
    "\n",
    "# Measure MAE error\n",
    "mae_test = metrics.mean_absolute_error(y_test, y_pred)\n",
    "print(\"Test Mean absolute error (MAE): {}\".format(mae_test))\n",
    "\n",
    "# Regression score for test \n",
    "y_pred_flat = y_pred.flatten()\n",
    "y_test_flat = y_test.flatten()\n",
    "r2_score_test = metrics.r2_score(y_test_flat, y_pred_flat)\n",
    "print(\"R2 Score Test: {}\".format(r2_score_test))"
   ]
  },
  {
   "cell_type": "code",
   "execution_count": 60,
   "metadata": {},
   "outputs": [
    {
     "data": {
      "text/plain": [
       "array([[0.7098434 ],\n",
       "       [0.5366711 ],\n",
       "       [0.37403646],\n",
       "       ...,\n",
       "       [0.5127033 ],\n",
       "       [0.6336515 ],\n",
       "       [0.598426  ]], dtype=float32)"
      ]
     },
     "execution_count": 60,
     "metadata": {},
     "output_type": "execute_result"
    }
   ],
   "source": [
    "# Making the predictions for training\n",
    "\n",
    "# Predicting the Training set results\n",
    "y_pred_train = m.predict(x_train) \n",
    "y_pred_train"
   ]
  },
  {
   "cell_type": "code",
   "execution_count": 61,
   "metadata": {},
   "outputs": [
    {
     "data": {
      "text/plain": [
       "(4453, 1)"
      ]
     },
     "execution_count": 61,
     "metadata": {},
     "output_type": "execute_result"
    }
   ],
   "source": [
    "y_pred_train.shape "
   ]
  },
  {
   "cell_type": "code",
   "execution_count": 62,
   "metadata": {},
   "outputs": [
    {
     "name": "stdout",
     "output_type": "stream",
     "text": [
      "Training Mean Squared error (MSE): 0.0046497917780712805\n",
      "Training Root mean squared error (RMSE): 0.06818938171058073\n",
      "Training Mean absolute error (MAE): 0.05150244819696026\n",
      "R2 Score Train: 0.7388007772349654\n"
     ]
    }
   ],
   "source": [
    "# Model performance # Training error\n",
    "\n",
    "# Measure MSE error  \n",
    "mse_train = metrics.mean_squared_error(y_train, y_pred_train)\n",
    "print(\"Training Mean Squared error (MSE): {}\".format(mse_train))\n",
    "\n",
    "# Measure RMSE error \n",
    "rmse_train = np.sqrt(metrics.mean_squared_error(y_train, y_pred_train))\n",
    "print(\"Training Root mean squared error (RMSE): {}\".format(rmse_train))\n",
    "\n",
    "# Measure MAE error\n",
    "mae_train = metrics.mean_absolute_error(y_train, y_pred_train)\n",
    "print(\"Training Mean absolute error (MAE): {}\".format(mae_train))\n",
    "\n",
    "# Regression score for training\n",
    "y_pred_train_flat = y_pred_train.flatten()\n",
    "y_train_flat = y_train.flatten()\n",
    "r2_score_train = metrics.r2_score(y_train_flat, y_pred_train_flat)\n",
    "print(\"R2 Score Train: {}\".format(r2_score_train))"
   ]
  },
  {
   "cell_type": "code",
   "execution_count": 63,
   "metadata": {},
   "outputs": [],
   "source": [
    "####################################### Evaluating Model #######################################"
   ]
  },
  {
   "cell_type": "code",
   "execution_count": 64,
   "metadata": {},
   "outputs": [
    {
     "name": "stdout",
     "output_type": "stream",
     "text": [
      "CV scores: [-0.00448171 -0.00417438 -0.00433703]\n",
      "Mean CV score (train): -0.0043310400 (0.0001255387)\n"
     ]
    }
   ],
   "source": [
    "# Cross-validation for training data\n",
    "\n",
    "estimator = KerasRegressor(build_fn=baseline_model, epochs=150, batch_size=16, verbose=0)\n",
    "kfold = KFold(n_splits=3)\n",
    "results = cross_val_score(estimator, x_train, y_train, cv=kfold, scoring='neg_mean_squared_error')\n",
    "print(\"CV scores: {}\".format(results))\n",
    "print(\"Mean CV score (train): %.10f (%.10f)\" % (results.mean(), results.std()))"
   ]
  },
  {
   "cell_type": "code",
   "execution_count": 65,
   "metadata": {},
   "outputs": [
    {
     "name": "stdout",
     "output_type": "stream",
     "text": [
      "CV scores: [-0.00533663 -0.00493517 -0.27101605]\n",
      "Mean CV score (test): -0.0937626168 (0.1253372094)\n"
     ]
    }
   ],
   "source": [
    "# Cross-validation for test data\n",
    "\n",
    "estimator = KerasRegressor(build_fn=baseline_model, epochs=150, batch_size=16, verbose=0)\n",
    "kfold = KFold(n_splits=3)\n",
    "results = cross_val_score(estimator, x_test, y_test, cv=kfold, scoring='neg_mean_squared_error')\n",
    "print(\"CV scores: {}\".format(results))\n",
    "print(\"Mean CV score (test): %.10f (%.10f)\" % (results.mean(), results.std()))"
   ]
  },
  {
   "cell_type": "code",
   "execution_count": 66,
   "metadata": {},
   "outputs": [],
   "source": [
    "# Saving results in csv file\n",
    "\n",
    "no_epoch = len(loss)\n",
    "\n",
    "results = pd.DataFrame([[mse_train, mse_test, mae_train, mae_test, no_epoch]],\n",
    "columns=['MSE Train', 'MSE Test', 'MAE Train', 'MAE Test', 'No_of_Epochs'])\n",
    "# results.to_csv('results_baseline_model.csv')"
   ]
  },
  {
   "cell_type": "code",
   "execution_count": 67,
   "metadata": {},
   "outputs": [
    {
     "data": {
      "text/html": [
       "<div>\n",
       "<style scoped>\n",
       "    .dataframe tbody tr th:only-of-type {\n",
       "        vertical-align: middle;\n",
       "    }\n",
       "\n",
       "    .dataframe tbody tr th {\n",
       "        vertical-align: top;\n",
       "    }\n",
       "\n",
       "    .dataframe thead th {\n",
       "        text-align: right;\n",
       "    }\n",
       "</style>\n",
       "<table border=\"1\" class=\"dataframe\">\n",
       "  <thead>\n",
       "    <tr style=\"text-align: right;\">\n",
       "      <th></th>\n",
       "      <th>MSE Train</th>\n",
       "      <th>MSE Test</th>\n",
       "      <th>MAE Train</th>\n",
       "      <th>MAE Test</th>\n",
       "      <th>No_of_Epochs</th>\n",
       "    </tr>\n",
       "  </thead>\n",
       "  <tbody>\n",
       "    <tr>\n",
       "      <th>0</th>\n",
       "      <td>0.00465</td>\n",
       "      <td>0.004788</td>\n",
       "      <td>0.051502</td>\n",
       "      <td>0.052247</td>\n",
       "      <td>51</td>\n",
       "    </tr>\n",
       "  </tbody>\n",
       "</table>\n",
       "</div>"
      ],
      "text/plain": [
       "   MSE Train  MSE Test  MAE Train  MAE Test  No_of_Epochs\n",
       "0    0.00465  0.004788   0.051502  0.052247            51"
      ]
     },
     "execution_count": 67,
     "metadata": {},
     "output_type": "execute_result"
    }
   ],
   "source": [
    "results "
   ]
  },
  {
   "cell_type": "code",
   "execution_count": 68,
   "metadata": {},
   "outputs": [],
   "source": [
    "# Saving baseline model\n",
    "\n",
    "m.save('no_room_baseline.h5')  "
   ]
  },
  {
   "cell_type": "code",
   "execution_count": 69,
   "metadata": {},
   "outputs": [],
   "source": [
    "# done"
   ]
  }
 ],
 "metadata": {
  "kernelspec": {
   "display_name": "Python 3",
   "language": "python",
   "name": "python3"
  },
  "language_info": {
   "codemirror_mode": {
    "name": "ipython",
    "version": 3
   },
   "file_extension": ".py",
   "mimetype": "text/x-python",
   "name": "python",
   "nbconvert_exporter": "python",
   "pygments_lexer": "ipython3",
   "version": "3.8.5"
  }
 },
 "nbformat": 4,
 "nbformat_minor": 4
}
